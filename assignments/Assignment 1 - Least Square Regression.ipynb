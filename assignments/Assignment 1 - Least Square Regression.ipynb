{
 "cells": [
  {
   "cell_type": "markdown",
   "metadata": {},
   "source": [
    "**Kelvin Fung**<br>\n",
    "**YSC4216 Machine Learning**<br>\n",
    "**Assignment 1: Regression Using Least Squares**"
   ]
  },
  {
   "cell_type": "markdown",
   "metadata": {},
   "source": [
    "Link to assignment: \n",
    "    \n",
    "https://tanrobby.github.io/teaching/ync_machine_learning/assignment1.html"
   ]
  },
  {
   "cell_type": "markdown",
   "metadata": {},
   "source": [
    "1. Generate 50 2D-data points using the following function:\n",
    "$ y = 0.4345x^3 - 5.607x^2 + 16.78x - 10.61 $\n",
    "\n",
    "2. Add Gaussian random noise to the data."
   ]
  },
  {
   "cell_type": "code",
   "execution_count": 1,
   "metadata": {},
   "outputs": [],
   "source": [
    "# Import dependencies\n",
    "import numpy as np\n",
    "import matplotlib.pyplot as plt\n",
    "from scipy import linalg\n",
    "\n",
    "%matplotlib inline"
   ]
  },
  {
   "cell_type": "code",
   "execution_count": 5,
   "metadata": {},
   "outputs": [],
   "source": [
    "# Functions to generate data\n",
    "def actual_distribution(num_points=50):\n",
    "    x_array = np.linspace(0, 9, num=num_points)\n",
    "    y_array = (0.4345*np.power(x_array, 3)) - (5.607*np.power(x_array,2)) + \\\n",
    "              (16.78*x_array) - 10.61\n",
    "    return (x_array, y_array)\n",
    "\n",
    "def add_noise(y_array):\n",
    "    mu = 0\n",
    "    sigma = 4.0\n",
    "    noise = np.random.normal(mu, sigma, len(y_array))\n",
    "    y_noise = y_array + noise\n",
    "    return y_noise"
   ]
  },
  {
   "cell_type": "code",
   "execution_count": 6,
   "metadata": {},
   "outputs": [],
   "source": [
    "x_array, y_array = actual_distribution(50)\n",
    "y_noise = add_noise(y_array)"
   ]
  },
  {
   "cell_type": "markdown",
   "metadata": {},
   "source": [
    "3. Fit generated noisy data using least squares method based on a polynomial function (M = 4)."
   ]
  },
  {
   "cell_type": "code",
   "execution_count": 10,
   "metadata": {},
   "outputs": [],
   "source": [
    "def get_coeffi_v1(x_arr, labels_arr, M):\n",
    "    X = np.matrix([[np.power(x, i) for i in range(0, M+1)] for x in x_arr])\n",
    "    inv = linalg.inv(X.T * X)\n",
    "    w = inv * X.T * np.array([labels_arr]).T\n",
    "    return w"
   ]
  },
  {
   "cell_type": "code",
   "execution_count": 11,
   "metadata": {},
   "outputs": [],
   "source": [
    "w = get_coeffi_v1(x_array, y_noise, 4)"
   ]
  },
  {
   "cell_type": "code",
   "execution_count": 12,
   "metadata": {},
   "outputs": [
    {
     "data": {
      "text/plain": [
       "matrix([[-1.40327100e+01],\n",
       "        [ 1.77849286e+01],\n",
       "        [-5.34439938e+00],\n",
       "        [ 3.17551915e-01],\n",
       "        [ 9.37294106e-03]])"
      ]
     },
     "execution_count": 12,
     "metadata": {},
     "output_type": "execute_result"
    }
   ],
   "source": []
  },
  {
   "cell_type": "code",
   "execution_count": null,
   "metadata": {},
   "outputs": [],
   "source": []
  }
 ],
 "metadata": {
  "kernelspec": {
   "display_name": "Python 3",
   "language": "python",
   "name": "python3"
  },
  "language_info": {
   "codemirror_mode": {
    "name": "ipython",
    "version": 3
   },
   "file_extension": ".py",
   "mimetype": "text/x-python",
   "name": "python",
   "nbconvert_exporter": "python",
   "pygments_lexer": "ipython3",
   "version": "3.7.6"
  }
 },
 "nbformat": 4,
 "nbformat_minor": 4
}
