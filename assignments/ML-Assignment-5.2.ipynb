{
 "cells": [
  {
   "cell_type": "markdown",
   "metadata": {},
   "source": [
    "## PART 2: Predictive Distribution \n",
    "\n",
    "Generate data"
   ]
  },
  {
   "cell_type": "code",
   "execution_count": 1,
   "metadata": {},
   "outputs": [
    {
     "data": {
      "image/png": "[encoded data removed]",
      "text/plain": [
       "<Figure size 432x288 with 1 Axes>"
      ]
     },
     "metadata": {
      "needs_background": "light"
     },
     "output_type": "display_data"
    }
   ],
   "source": [
    "%matplotlib inline\n",
    "import matplotlib.pyplot as plt\n",
    "import numpy as np\n",
    "from scipy.spatial import distance\n",
    "from scipy import linalg\n",
    "\n",
    "N1 = 50\n",
    "N2 = 50\n",
    "K = 2 \n",
    "sigma = 0.1\n",
    "\n",
    "mean = (3,3)\n",
    "cov = [[sigma, 0],[0, sigma]]\n",
    "X1 = np.random.multivariate_normal(mean, cov, N1)\n",
    "c1 = ['red']*len(X1)\n",
    "\n",
    "\n",
    "mean = (5,5)\n",
    "cov = [[sigma, 0],[0, sigma]]\n",
    "X2 = np.random.multivariate_normal(mean, cov, N2)\n",
    "X_out = np.random.multivariate_normal((8,3), cov, N2)\n",
    "X2 = np.concatenate((X2,X_out))\n",
    "c2 = ['blue']*len(X2*2)\n",
    "\n",
    "\n",
    "X = np.concatenate((X1,X2))\n",
    "\n",
    "color = np.concatenate((c1,c2))\n",
    "\n",
    "T = 0*np.ones([len(X),1])\n",
    "for n in range(0, len(X)):\n",
    "    if(n<len(X1)):\n",
    "        T[n] = 0\n",
    "    if(n>=N1 and n<len(X1)+len(X2)):\n",
    "        T[n] = 1\n",
    "T = T.astype(int)\n",
    "\n",
    "total_N = N1+N2+N2\n",
    "plt.scatter(X[:,0], X[:,1], marker='o', c=color)\n",
    "plt.show()\n",
    "\n",
    "#print(T)"
   ]
  },
  {
   "cell_type": "code",
   "execution_count": 3,
   "metadata": {},
   "outputs": [
    {
     "name": "stdout",
     "output_type": "stream",
     "text": [
      "[[0]\n",
      " [0]\n",
      " [0]\n",
      " [0]\n",
      " [0]\n",
      " [0]\n",
      " [0]\n",
      " [0]\n",
      " [0]\n",
      " [0]\n",
      " [0]\n",
      " [0]\n",
      " [0]\n",
      " [0]\n",
      " [0]\n",
      " [0]\n",
      " [0]\n",
      " [0]\n",
      " [0]\n",
      " [0]\n",
      " [0]\n",
      " [0]\n",
      " [0]\n",
      " [0]\n",
      " [0]\n",
      " [0]\n",
      " [0]\n",
      " [0]\n",
      " [0]\n",
      " [0]\n",
      " [0]\n",
      " [0]\n",
      " [0]\n",
      " [0]\n",
      " [0]\n",
      " [0]\n",
      " [0]\n",
      " [0]\n",
      " [0]\n",
      " [0]\n",
      " [0]\n",
      " [0]\n",
      " [0]\n",
      " [0]\n",
      " [0]\n",
      " [0]\n",
      " [0]\n",
      " [0]\n",
      " [0]\n",
      " [0]\n",
      " [1]\n",
      " [1]\n",
      " [1]\n",
      " [1]\n",
      " [1]\n",
      " [1]\n",
      " [1]\n",
      " [1]\n",
      " [1]\n",
      " [1]\n",
      " [1]\n",
      " [1]\n",
      " [1]\n",
      " [1]\n",
      " [1]\n",
      " [1]\n",
      " [1]\n",
      " [1]\n",
      " [1]\n",
      " [1]\n",
      " [1]\n",
      " [1]\n",
      " [1]\n",
      " [1]\n",
      " [1]\n",
      " [1]\n",
      " [1]\n",
      " [1]\n",
      " [1]\n",
      " [1]\n",
      " [1]\n",
      " [1]\n",
      " [1]\n",
      " [1]\n",
      " [1]\n",
      " [1]\n",
      " [1]\n",
      " [1]\n",
      " [1]\n",
      " [1]\n",
      " [1]\n",
      " [1]\n",
      " [1]\n",
      " [1]\n",
      " [1]\n",
      " [1]\n",
      " [1]\n",
      " [1]\n",
      " [1]\n",
      " [1]\n",
      " [1]\n",
      " [1]\n",
      " [1]\n",
      " [1]\n",
      " [1]\n",
      " [1]\n",
      " [1]\n",
      " [1]\n",
      " [1]\n",
      " [1]\n",
      " [1]\n",
      " [1]\n",
      " [1]\n",
      " [1]\n",
      " [1]\n",
      " [1]\n",
      " [1]\n",
      " [1]\n",
      " [1]\n",
      " [1]\n",
      " [1]\n",
      " [1]\n",
      " [1]\n",
      " [1]\n",
      " [1]\n",
      " [1]\n",
      " [1]\n",
      " [1]\n",
      " [1]\n",
      " [1]\n",
      " [1]\n",
      " [1]\n",
      " [1]\n",
      " [1]\n",
      " [1]\n",
      " [1]\n",
      " [1]\n",
      " [1]\n",
      " [1]\n",
      " [1]\n",
      " [1]\n",
      " [1]\n",
      " [1]\n",
      " [1]\n",
      " [1]\n",
      " [1]\n",
      " [1]\n",
      " [1]\n",
      " [1]\n",
      " [1]]\n"
     ]
    }
   ],
   "source": [
    "print(T)"
   ]
  },
  {
   "cell_type": "markdown",
   "metadata": {},
   "source": [
    "Based on the generated data, compute the probability map:"
   ]
  },
  {
   "cell_type": "code",
   "execution_count": 2,
   "metadata": {
    "scrolled": true
   },
   "outputs": [
    {
     "name": "stdout",
     "output_type": "stream",
     "text": [
      "[[-14.66626927]\n",
      " [  2.06096034]\n",
      " [  1.64279926]]\n",
      "[[ 4.84404415 -0.46632884 -0.72303676]\n",
      " [-0.46632884  0.41269745 -0.30681035]\n",
      " [-0.72303676 -0.30681035  0.51169732]]\n"
     ]
    }
   ],
   "source": [
    "import math\n",
    "def sigmoid(in_matrix):\n",
    "    return 1/(1+np.exp(-in_matrix))\n",
    "\n",
    "def generate_sigmoid(w,in_matrix):\n",
    "    temp = np.matrix.flatten(np.array([(sigmoid(np.matmul(w.transpose(),in_matrix[i,:]))) \n",
    "                     for i in range(in_matrix.shape[0])]))\n",
    "    return temp\n",
    "    \n",
    "def generate_R(w,in_matrix):\n",
    "    temp = np.matrix.flatten(np.array([(sigmoid(np.matmul(w.transpose(),in_matrix[i,:])))*\n",
    "                                       (1-(sigmoid(np.matmul(w.transpose(),in_matrix[i,:])))) \n",
    "                     for i in range(in_matrix.shape[0])]))\n",
    "    return np.diag(temp)\n",
    "\n",
    "X_new = np.concatenate((np.reshape(np.ones(150), (150,1)), X), axis=1)\n",
    "#print(X_new)\n",
    "M = 3\n",
    "alpha =  20\n",
    "S_inverse = (1/alpha) * np.identity(M)\n",
    "# print(S_inverse)\n",
    "w_initial =  np.zeros([M,1])\n",
    "#print(w_initial)\n",
    "def generate_wmap(w=w_initial, X=X_new):\n",
    "    R = generate_R(w, X)\n",
    "    #print(R)\n",
    "    H = S_inverse + np.linalg.multi_dot((X.transpose(), R ,X))\n",
    "    #print(H)\n",
    "    E_1 =  (np.matmul(S_inverse, w) + \n",
    "            np.matmul(X.transpose(),\n",
    "                      (np.reshape(generate_sigmoid(w, X), (total_N,1))\n",
    "                       - T)))\n",
    "    #print(E_1)\n",
    "    H_inverse = np.linalg.inv(H)\n",
    "    w_new = w - np.matmul(H_inverse, E_1)\n",
    "    s_new = H_inverse\n",
    "    return w_new, s_new\n",
    "\n",
    "res = generate_wmap(w_initial, X_new)\n",
    "old = res[0]\n",
    "new = np.reshape(np.array([10,10,10]), (M,1))\n",
    "\n",
    "counter = 0\n",
    "while ( abs((new-old)[1]) > 0.000001 and abs((new-old)[0]) > 0.000001):\n",
    "    old = res[0]\n",
    "    res = generate_wmap(res[0], X_new)\n",
    "    new = res[0]\n",
    "    counter = counter + 1 \n",
    "    # print(abs((new-old)[1]))\n",
    "\n",
    "#print(counter) \n",
    "w_map = (res[0])\n",
    "sigma_fb = (res[1])\n",
    "print(w_map)\n",
    "print(sigma_fb)\n",
    "\n",
    "#[sigmoid(np.matmul(w_map.transpose(), np.reshape(X_new[i,:], (M,1)))) for i in range(150)]"
   ]
  },
  {
   "cell_type": "code",
   "execution_count": 22,
   "metadata": {
    "scrolled": true
   },
   "outputs": [
    {
     "data": {
      "text/plain": [
       "<matplotlib.image.AxesImage at 0x244da65a400>"
      ]
     },
     "execution_count": 22,
     "metadata": {},
     "output_type": "execute_result"
    },
    {
     "data": {
      "image/png": "[encoded data removed]",
      "text/plain": [
       "<Figure size 432x288 with 1 Axes>"
      ]
     },
     "metadata": {
      "needs_background": "light"
     },
     "output_type": "display_data"
    }
   ],
   "source": [
    "# generate grid and data points\n",
    "x_grid = np.arange(0,10,0.1)\n",
    "grid_matrix = np.zeros([len(x_grid),len(x_grid)])\n",
    "\n",
    "for i in range(len(x_grid)):\n",
    "    for j in range(len(x_grid)):\n",
    "        x_star = np.reshape(np.array([1, x_grid[i], x_grid[j]]), (M,1))\n",
    "        a_map = np.matmul(w_map.transpose(), x_star)\n",
    "        sigma_star = np.linalg.multi_dot((x_star.transpose(), \n",
    "                                          (sigma_fb), x_star))\n",
    "        final_p = sigmoid(a_map/pow((1+(3.1415926/8)*sigma_star),0.5))\n",
    "        grid_matrix[i,j] = final_p\n",
    "\n",
    "#print(grid_matrix)\n",
    "\n",
    "plt.scatter(X[:,0], X[:,1], marker='o', c=color)\n",
    "plt.imshow(grid_matrix, cmap ='jet', \n",
    "           interpolation='bilinear', origin='lower', extent=[0,10,0,10])"
   ]
  },
  {
   "cell_type": "markdown",
   "metadata": {},
   "source": [
    "Ask the user to enter any new value of x, and your task is to provide the decision whether it belongs to C1 or C2, and its uncertainty information."
   ]
  },
  {
   "cell_type": "code",
   "execution_count": 19,
   "metadata": {},
   "outputs": [
    {
     "name": "stdout",
     "output_type": "stream",
     "text": [
      "Enter your new value of x as 2 values seperated by comma: 5,5\n",
      "Your new value of x belongs to C2.\n",
      "The probability of new x belonging to C2 is [0.96998426], and the probability of new x belonging to C1 is [0.03001574]\n"
     ]
    }
   ],
   "source": [
    "val = input(\"Enter your new value of x as 2 values seperated by comma: \")\n",
    "x1, x2 = val.split(\",\")\n",
    "x_star = np.reshape(np.array([1,int(x1),int(x2)]), (M,1))\n",
    "a_map = np.matmul(w_map.transpose(), x_star)\n",
    "sigma_star = np.linalg.multi_dot((x_star.transpose(), \n",
    "                                  (sigma_fb), x_star))\n",
    "final_p = sigmoid(a_map/pow((1+(3.1415926/8)*sigma_star),0.5))\n",
    "\n",
    "if final_p < 0.5:\n",
    "    print(\"Your new value of x belongs to C1.\")\n",
    "    print(\"The probability of new x belonging to C1 is \", str(1-final_p[0]), \n",
    "          \", and the probability of new x belonging to C2 is \", str(final_p[0]), sep=\"\")\n",
    "else:\n",
    "    print(\"Your new value of x belongs to C2.\")\n",
    "    print(\"The probability of new x belonging to C2 is \", str(final_p[0]), \n",
    "          \", and the probability of new x belonging to C1 is \", str(1-final_p[0]), sep=\"\")"
   ]
  }
 ],
 "metadata": {
  "kernelspec": {
   "display_name": "Python 3",
   "language": "python",
   "name": "python3"
  },
  "language_info": {
   "codemirror_mode": {
    "name": "ipython",
    "version": 3
   },
   "file_extension": ".py",
   "mimetype": "text/x-python",
   "name": "python",
   "nbconvert_exporter": "python",
   "pygments_lexer": "ipython3",
   "version": "3.7.6"
  }
 },
 "nbformat": 4,
 "nbformat_minor": 2
}
