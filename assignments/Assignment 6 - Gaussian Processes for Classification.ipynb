{
 "cells": [
  {
   "cell_type": "markdown",
   "metadata": {},
   "source": [
    "**Kelvin Fung**<br>\n",
    "**YSC4216 Machine Learning**<br>\n",
    "**Assignment 6: Gaussian Processes for Regression**"
   ]
  },
  {
   "cell_type": "markdown",
   "metadata": {},
   "source": [
    "1. Generate two classes of data with the same population size (N1=N2=50), sigma = 0.1, mean_red = (2, 2) and mean_blue = (3, 3)."
   ]
  },
  {
   "cell_type": "code",
   "execution_count": 1,
   "metadata": {},
   "outputs": [],
   "source": [
    "import numpy as np\n",
    "import matplotlib.pyplot as plt\n",
    "\n",
    "%matplotlib inline"
   ]
  },
  {
   "cell_type": "code",
   "execution_count": 97,
   "metadata": {},
   "outputs": [
    {
     "name": "stdout",
     "output_type": "stream",
     "text": [
      "[[0]\n",
      " [0]\n",
      " [0]\n",
      " [0]\n",
      " [0]\n",
      " [0]\n",
      " [0]\n",
      " [0]\n",
      " [0]\n",
      " [0]\n",
      " [0]\n",
      " [0]\n",
      " [0]\n",
      " [0]\n",
      " [0]\n",
      " [0]\n",
      " [0]\n",
      " [0]\n",
      " [0]\n",
      " [0]\n",
      " [0]\n",
      " [0]\n",
      " [0]\n",
      " [0]\n",
      " [0]\n",
      " [0]\n",
      " [0]\n",
      " [0]\n",
      " [0]\n",
      " [0]\n",
      " [0]\n",
      " [0]\n",
      " [0]\n",
      " [0]\n",
      " [0]\n",
      " [0]\n",
      " [0]\n",
      " [0]\n",
      " [0]\n",
      " [0]\n",
      " [0]\n",
      " [0]\n",
      " [0]\n",
      " [0]\n",
      " [0]\n",
      " [0]\n",
      " [0]\n",
      " [0]\n",
      " [0]\n",
      " [0]\n",
      " [1]\n",
      " [1]\n",
      " [1]\n",
      " [1]\n",
      " [1]\n",
      " [1]\n",
      " [1]\n",
      " [1]\n",
      " [1]\n",
      " [1]\n",
      " [1]\n",
      " [1]\n",
      " [1]\n",
      " [1]\n",
      " [1]\n",
      " [1]\n",
      " [1]\n",
      " [1]\n",
      " [1]\n",
      " [1]\n",
      " [1]\n",
      " [1]\n",
      " [1]\n",
      " [1]\n",
      " [1]\n",
      " [1]\n",
      " [1]\n",
      " [1]\n",
      " [1]\n",
      " [1]\n",
      " [1]\n",
      " [1]\n",
      " [1]\n",
      " [1]\n",
      " [1]\n",
      " [1]\n",
      " [1]\n",
      " [1]\n",
      " [1]\n",
      " [1]\n",
      " [1]\n",
      " [1]\n",
      " [1]\n",
      " [1]\n",
      " [1]\n",
      " [1]\n",
      " [1]\n",
      " [1]\n",
      " [1]\n",
      " [1]]\n"
     ]
    },
    {
     "data": {
      "image/png": "[encoded data removed]",
      "text/plain": [
       "<Figure size 432x288 with 1 Axes>"
      ]
     },
     "metadata": {
      "needs_background": "light"
     },
     "output_type": "display_data"
    }
   ],
   "source": [
    "N1 = N2 = 50\n",
    "mean_red = (2, 2)\n",
    "mean_blue = (3, 3)\n",
    "sigma = 0.1\n",
    "cov = [[sigma, 0], [0, sigma]]\n",
    "\n",
    "X_red = np.random.multivariate_normal(mean_red, cov, N1)\n",
    "X_blue = np.random.multivariate_normal(mean_blue, cov, N2)\n",
    "\n",
    "c1 = ['red'] * N1\n",
    "c2 = ['blue'] * N2\n",
    "\n",
    "X = np.concatenate((X_red, X_blue))\n",
    "color = np.concatenate((c1, c2))\n",
    "\n",
    "t_N = np.matrix([[0] * 50 + [1] * 50]).T\n",
    "\n",
    "plt.scatter(X[:, 0], X[:, 1], marker='o', c=color, s=8)\n",
    "plt.show()"
   ]
  },
  {
   "cell_type": "markdown",
   "metadata": {},
   "source": [
    "2. Write code to classify the two clusters with Gaussian Processes.\n",
    "3. Use the kernel written on p.307 of textbook. Set the parameters to (1.0, 4.0, 1.0, 2.0)"
   ]
  },
  {
   "cell_type": "code",
   "execution_count": 56,
   "metadata": {},
   "outputs": [],
   "source": [
    "def get_kernel_func(thetas):\n",
    "    def k(xi, xj):\n",
    "        # Convert arrays into column vectors\n",
    "        xi = np.matrix(xi).T\n",
    "        xj = np.matrix(xj).T\n",
    "        return thetas[0] * np.exp(-thetas[1]/2 * np.linalg.norm(xi-xj)**2) + \\\n",
    "               thetas[2] + (thetas[3]*xi.T*xj)[0, 0]\n",
    "    return k"
   ]
  },
  {
   "cell_type": "code",
   "execution_count": 50,
   "metadata": {},
   "outputs": [
    {
     "name": "stdout",
     "output_type": "stream",
     "text": [
      "19.0\n"
     ]
    }
   ],
   "source": [
    "thetas = (1, 4, 1, 2)\n",
    "xi = np.array([1, 1])\n",
    "xj = np.array([4, 5])\n",
    "k = get_kernel_func(thetas)\n",
    "print(k(xi, xj))"
   ]
  },
  {
   "cell_type": "code",
   "execution_count": 60,
   "metadata": {},
   "outputs": [],
   "source": [
    "def get_C(X, v, k):\n",
    "    length = X.shape[0]\n",
    "    C = np.zeros((length, length))\n",
    "    \n",
    "    for row in range(length):\n",
    "        for col in range(row, length):\n",
    "            if row == col:\n",
    "                C[row, col] = k(X[row, ], X[row, ]) + v\n",
    "            else:\n",
    "                temp = k(X[row, ], X[col, ])\n",
    "                C[row, col] = temp\n",
    "                C[col, row] = temp\n",
    "    \n",
    "    return C"
   ]
  },
  {
   "cell_type": "code",
   "execution_count": 61,
   "metadata": {},
   "outputs": [],
   "source": [
    "def get_c_star(x_star, v, k):\n",
    "    return k(x_star, x_star) + v"
   ]
  },
  {
   "cell_type": "code",
   "execution_count": 67,
   "metadata": {},
   "outputs": [],
   "source": [
    "def sigmoid(a):\n",
    "    return 1 / (1 + np.exp(-a))"
   ]
  },
  {
   "cell_type": "code",
   "execution_count": 93,
   "metadata": {},
   "outputs": [
    {
     "name": "stdout",
     "output_type": "stream",
     "text": [
      "[[0.00506431 0.         0.         ... 0.         0.         0.        ]\n",
      " [0.         0.0053721  0.         ... 0.         0.         0.        ]\n",
      " [0.         0.         0.01367665 ... 0.         0.         0.        ]\n",
      " ...\n",
      " [0.         0.         0.         ... 0.00148176 0.         0.        ]\n",
      " [0.         0.         0.         ... 0.         0.00107512 0.        ]\n",
      " [0.         0.         0.         ... 0.         0.         0.00109012]]\n"
     ]
    }
   ],
   "source": [
    "def get_W_N2(X, w):\n",
    "    X_dummy = np.insert(X, 0, 1, axis=1)\n",
    "    length = X_dummy.shape[0]\n",
    "    W = np.zeros((length, length))\n",
    "    \n",
    "    for i in range(length):\n",
    "        temp = sigmoid(X_dummy[i, ] * w)[0, 0]\n",
    "        W[i, i] = temp * (1-temp)\n",
    "    \n",
    "    print(W)\n",
    "    return None\n",
    "\n",
    "get_W_N2(X, np.matrix([1,1,1]).T)"
   ]
  },
  {
   "cell_type": "code",
   "execution_count": 91,
   "metadata": {},
   "outputs": [
    {
     "name": "stdout",
     "output_type": "stream",
     "text": [
      "[[0.00506431 0.         0.         ... 0.         0.         0.        ]\n",
      " [0.         0.0053721  0.         ... 0.         0.         0.        ]\n",
      " [0.         0.         0.01367665 ... 0.         0.         0.        ]\n",
      " ...\n",
      " [0.         0.         0.         ... 0.00148176 0.         0.        ]\n",
      " [0.         0.         0.         ... 0.         0.00107512 0.        ]\n",
      " [0.         0.         0.         ... 0.         0.         0.00109012]]\n"
     ]
    }
   ],
   "source": [
    "def get_W_N(a_N):\n",
    "    X_dummy = np.insert(X, 0, 1, axis=1)\n",
    "    temp = sigmoid(a_N)\n",
    "    temp2 = 1 - temp\n",
    "    \n",
    "    return np.diag(np.diag(temp * temp2.T))\n",
    "\n",
    "print(get_W_N(X, np.matrix([1,1,1]).T))"
   ]
  },
  {
   "cell_type": "code",
   "execution_count": 95,
   "metadata": {},
   "outputs": [
    {
     "name": "stdout",
     "output_type": "stream",
     "text": [
      "[[0.]\n",
      " [0.]\n",
      " [0.]\n",
      " [0.]\n",
      " [0.]\n",
      " [0.]\n",
      " [0.]\n",
      " [0.]\n",
      " [0.]\n",
      " [0.]\n",
      " [0.]\n",
      " [0.]\n",
      " [0.]\n",
      " [0.]\n",
      " [0.]\n",
      " [0.]\n",
      " [0.]\n",
      " [0.]\n",
      " [0.]\n",
      " [0.]\n",
      " [0.]\n",
      " [0.]\n",
      " [0.]\n",
      " [0.]\n",
      " [0.]\n",
      " [0.]\n",
      " [0.]\n",
      " [0.]\n",
      " [0.]\n",
      " [0.]\n",
      " [0.]\n",
      " [0.]\n",
      " [0.]\n",
      " [0.]\n",
      " [0.]\n",
      " [0.]\n",
      " [0.]\n",
      " [0.]\n",
      " [0.]\n",
      " [0.]\n",
      " [0.]\n",
      " [0.]\n",
      " [0.]\n",
      " [0.]\n",
      " [0.]\n",
      " [0.]\n",
      " [0.]\n",
      " [0.]\n",
      " [0.]\n",
      " [0.]\n",
      " [0.]\n",
      " [0.]\n",
      " [0.]\n",
      " [0.]\n",
      " [0.]\n",
      " [0.]\n",
      " [0.]\n",
      " [0.]\n",
      " [0.]\n",
      " [0.]\n",
      " [0.]\n",
      " [0.]\n",
      " [0.]\n",
      " [0.]\n",
      " [0.]\n",
      " [0.]\n",
      " [0.]\n",
      " [0.]\n",
      " [0.]\n",
      " [0.]\n",
      " [0.]\n",
      " [0.]\n",
      " [0.]\n",
      " [0.]\n",
      " [0.]\n",
      " [0.]\n",
      " [0.]\n",
      " [0.]\n",
      " [0.]\n",
      " [0.]\n",
      " [0.]\n",
      " [0.]\n",
      " [0.]\n",
      " [0.]\n",
      " [0.]\n",
      " [0.]\n",
      " [0.]\n",
      " [0.]\n",
      " [0.]\n",
      " [0.]\n",
      " [0.]\n",
      " [0.]\n",
      " [0.]\n",
      " [0.]\n",
      " [0.]\n",
      " [0.]\n",
      " [0.]\n",
      " [0.]\n",
      " [0.]\n",
      " [0.]]\n"
     ]
    }
   ],
   "source": [
    "def get_mean_sd(x_star, X, t_N):\n",
    "    def get_a_N(X, t_N, C):\n",
    "        w_ini = np.matrix([0, 0, 0]).T\n",
    "        X_dummy = np.insert(X, 0, 1, axis=1)\n",
    "        a_N = X_dummy * w_ini\n",
    "\n",
    "        counter = 0\n",
    "        sum_diff = 999\n",
    "\n",
    "        while sum_diff > 1e-4:\n",
    "            H = -np.linalg.inv(C) - get_W_N(a_N)\n",
    "            nabla_g = t_N - sigmoid(a_N) - (np.linalg.inv(C) * a_N)\n",
    "\n",
    "            a_N_new = a_N - (np.linalg.inv(H) * nabla_g)\n",
    "            sum_diff = sum(a_N_new - a_N)\n",
    "\n",
    "            a_N = a_N_new\n",
    "\n",
    "        return a_N_ini\n"
   ]
  },
  {
   "cell_type": "code",
   "execution_count": null,
   "metadata": {},
   "outputs": [],
   "source": []
  }
 ],
 "metadata": {
  "kernelspec": {
   "display_name": "Python 3",
   "language": "python",
   "name": "python3"
  },
  "language_info": {
   "codemirror_mode": {
    "name": "ipython",
    "version": 3
   },
   "file_extension": ".py",
   "mimetype": "text/x-python",
   "name": "python",
   "nbconvert_exporter": "python",
   "pygments_lexer": "ipython3",
   "version": "3.7.6"
  }
 },
 "nbformat": 4,
 "nbformat_minor": 4
}
