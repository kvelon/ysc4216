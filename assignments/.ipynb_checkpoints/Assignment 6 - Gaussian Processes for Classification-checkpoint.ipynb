{
 "cells": [
  {
   "cell_type": "markdown",
   "metadata": {},
   "source": [
    "**Kelvin Fung**<br>\n",
    "**YSC4216 Machine Learning**<br>\n",
    "**Assignment 6: Gaussian Processes for Regression**"
   ]
  },
  {
   "cell_type": "markdown",
   "metadata": {},
   "source": [
    "1. Generate two classes of data with the same population size (N1=N2=50), sigma = 0.1, mean_red = (2, 2) and mean_blue = (3, 3)."
   ]
  },
  {
   "cell_type": "code",
   "execution_count": 1,
   "metadata": {},
   "outputs": [],
   "source": [
    "import numpy as np\n",
    "import matplotlib.pyplot as plt\n",
    "\n",
    "%matplotlib inline"
   ]
  },
  {
   "cell_type": "code",
   "execution_count": 2,
   "metadata": {},
   "outputs": [
    {
     "data": {
      "image/png": "[encoded data removed]",
      "text/plain": [
       "<Figure size 432x288 with 1 Axes>"
      ]
     },
     "metadata": {
      "needs_background": "light"
     },
     "output_type": "display_data"
    }
   ],
   "source": [
    "N1 = N2 = 50\n",
    "mean_red = (2, 2)\n",
    "mean_blue = (3, 3)\n",
    "sigma = 0.1\n",
    "cov = [[sigma, 0], [0, sigma]]\n",
    "\n",
    "X_red = np.random.multivariate_normal(mean_red, cov, N1)\n",
    "X_blue = np.random.multivariate_normal(mean_blue, cov, N2)\n",
    "\n",
    "c1 = ['red'] * N1\n",
    "c2 = ['blue'] * N2\n",
    "\n",
    "X = np.concatenate((X_red, X_blue))\n",
    "color = np.concatenate((c1, c2))\n",
    "\n",
    "t_N = np.matrix([[0] * 50 + [1] * 50]).T\n",
    "\n",
    "plt.scatter(X[:, 0], X[:, 1], marker='o', c=color, s=8)\n",
    "plt.show()"
   ]
  },
  {
   "cell_type": "markdown",
   "metadata": {},
   "source": [
    "2. Write code to classify the two clusters with Gaussian Processes.\n",
    "3. Use the kernel written on p.307 of textbook. Set the parameters to (1.0, 4.0, 1.0, 2.0)"
   ]
  },
  {
   "cell_type": "code",
   "execution_count": 3,
   "metadata": {},
   "outputs": [],
   "source": [
    "def get_kernel_func(thetas):\n",
    "    def k(xi, xj):\n",
    "        # Convert arrays into column vectors\n",
    "        xi = np.matrix(xi).T\n",
    "        xj = np.matrix(xj).T\n",
    "        return thetas[0] * np.exp(-thetas[1]/2 * np.linalg.norm(xi-xj)**2) + \\\n",
    "               thetas[2] + (thetas[3]*xi.T*xj)[0, 0]\n",
    "    return k"
   ]
  },
  {
   "cell_type": "code",
   "execution_count": 12,
   "metadata": {},
   "outputs": [
    {
     "name": "stdout",
     "output_type": "stream",
     "text": [
      "19.0\n"
     ]
    }
   ],
   "source": [
    "X_dummy = np.insert(X, 0, 1, axis=1)\n",
    "\n",
    "thetas = (1, 4, 1, 2)\n",
    "xi = np.array([1, 1])\n",
    "xj = np.array([4, 5])\n",
    "k = get_kernel_func(thetas)\n",
    "print(k(xi, xj))"
   ]
  },
  {
   "cell_type": "code",
   "execution_count": 5,
   "metadata": {},
   "outputs": [],
   "source": [
    "def get_C(X, v, k):\n",
    "    length = X.shape[0]\n",
    "    C = np.zeros((length, length))\n",
    "    \n",
    "    for row in range(length):\n",
    "        for col in range(row, length):\n",
    "            if row == col:\n",
    "                C[row, col] = k(X[row, ], X[row, ]) + v\n",
    "            else:\n",
    "                temp = k(X[row, ], X[col, ])\n",
    "                C[row, col] = temp\n",
    "                C[col, row] = temp\n",
    "    \n",
    "    return C"
   ]
  },
  {
   "cell_type": "code",
   "execution_count": 6,
   "metadata": {},
   "outputs": [],
   "source": [
    "def get_c_star(x_star, v, k):\n",
    "    return k(x_star, x_star) + v"
   ]
  },
  {
   "cell_type": "code",
   "execution_count": 9,
   "metadata": {},
   "outputs": [],
   "source": [
    "def get_k_star(x_star, X_dummy, k):\n",
    "    return np.matrix([k(x_star, x) for x in X_dummy]).T"
   ]
  },
  {
   "cell_type": "code",
   "execution_count": 7,
   "metadata": {},
   "outputs": [],
   "source": [
    "def sigmoid(a):\n",
    "    return 1 / (1 + np.exp(-a))"
   ]
  },
  {
   "cell_type": "code",
   "execution_count": 10,
   "metadata": {},
   "outputs": [
    {
     "name": "stdout",
     "output_type": "stream",
     "text": [
      "[[0.0074281  0.         0.         ... 0.         0.         0.        ]\n",
      " [0.         0.00422504 0.         ... 0.         0.         0.        ]\n",
      " [0.         0.         0.00606461 ... 0.         0.         0.        ]\n",
      " ...\n",
      " [0.         0.         0.         ... 0.0006831  0.         0.        ]\n",
      " [0.         0.         0.         ... 0.         0.00112244 0.        ]\n",
      " [0.         0.         0.         ... 0.         0.         0.00082793]]\n"
     ]
    }
   ],
   "source": [
    "def get_W_N2(X, w):\n",
    "    X_dummy = np.insert(X, 0, 1, axis=1)\n",
    "    length = X_dummy.shape[0]\n",
    "    W = np.zeros((length, length))\n",
    "    \n",
    "    for i in range(length):\n",
    "        temp = sigmoid(X_dummy[i, ] * w)[0, 0]\n",
    "        W[i, i] = temp * (1-temp)\n",
    "    \n",
    "    print(W)\n",
    "    return None\n",
    "\n",
    "get_W_N2(X, np.matrix([1,1,1]).T)"
   ]
  },
  {
   "cell_type": "code",
   "execution_count": 14,
   "metadata": {},
   "outputs": [
    {
     "name": "stdout",
     "output_type": "stream",
     "text": [
      "[[0.0074281  0.         0.         ... 0.         0.         0.        ]\n",
      " [0.         0.00422504 0.         ... 0.         0.         0.        ]\n",
      " [0.         0.         0.00606461 ... 0.         0.         0.        ]\n",
      " ...\n",
      " [0.         0.         0.         ... 0.0006831  0.         0.        ]\n",
      " [0.         0.         0.         ... 0.         0.00112244 0.        ]\n",
      " [0.         0.         0.         ... 0.         0.         0.00082793]]\n"
     ]
    }
   ],
   "source": [
    "def get_W_N(a_N):\n",
    "    temp = sigmoid(a_N)\n",
    "    temp2 = 1 - temp\n",
    "    \n",
    "    return np.diag(np.diag(temp * temp2.T))\n",
    "\n",
    "print(get_W_N(X_dummy * np.matrix([1, 1, 1]).T))"
   ]
  },
  {
   "cell_type": "code",
   "execution_count": 17,
   "metadata": {},
   "outputs": [],
   "source": [
    "def get_a_N(X_dummy, t_N, C):\n",
    "        w_ini = np.matrix([0, 0, 0]).T\n",
    "        X_dummy = np.insert(X, 0, 1, axis=1)\n",
    "        \n",
    "        a_N = X_dummy * w_ini\n",
    "\n",
    "        counter = 0\n",
    "        sum_diff = 999\n",
    "\n",
    "        while sum_diff > 1e-4:\n",
    "            H = -np.linalg.inv(C) - get_W_N(a_N)\n",
    "            nabla_g = t_N - sigmoid(a_N) - (np.linalg.inv(C) * a_N)\n",
    "\n",
    "            a_N_new = a_N - (np.linalg.inv(H) * nabla_g)\n",
    "            sum_diff = abs(sum(a_N_new - a_N))\n",
    "            counter += 1\n",
    "            \n",
    "            a_N = a_N_new\n",
    "\n",
    "        return a_N"
   ]
  },
  {
   "cell_type": "code",
   "execution_count": 24,
   "metadata": {},
   "outputs": [],
   "source": [
    "def get_prob_blue(x_star, X_dummy, k, v, C, a_N, W_N_inv):\n",
    "            \n",
    "    k_star = get_k_star(x_star, X_dummy, k)\n",
    "    c_star = get_c_star(x_star, v, k)\n",
    "\n",
    "    mu_star = k_star.T * np.linalg.inv(C) * a_N\n",
    "    s_star = c_star - (k_star.T * np.linalg.inv(W_N_inv + C) * k_star)\n",
    "\n",
    "    return sigmoid(mu_star / np.power(1 + (s_star**2 * np.pi/8), 1/2))"
   ]
  },
  {
   "cell_type": "code",
   "execution_count": 25,
   "metadata": {},
   "outputs": [],
   "source": [
    "X_dummy = np.insert(X, 0, 1, axis=1)\n",
    "v = 100\n",
    "thetas = (1, 4, 1, 2)\n",
    "k = get_kernel_func(thetas)\n",
    "\n",
    "# Variables that will not depend on x_star\n",
    "C = get_C(X_dummy, v, k)\n",
    "a_N = get_a_N(X_dummy, t_N, C)\n",
    "W_N_inv = np.linalg.inv(get_W_N(a_N))"
   ]
  },
  {
   "cell_type": "code",
   "execution_count": 27,
   "metadata": {},
   "outputs": [
    {
     "name": "stdout",
     "output_type": "stream",
     "text": [
      "col: 0\n",
      "col: 1\n",
      "col: 2\n",
      "col: 3\n",
      "col: 4\n",
      "col: 5\n",
      "col: 6\n",
      "col: 7\n",
      "col: 8\n",
      "col: 9\n",
      "col: 10\n",
      "col: 11\n",
      "col: 12\n",
      "col: 13\n",
      "col: 14\n",
      "col: 15\n",
      "col: 16\n",
      "col: 17\n",
      "col: 18\n",
      "col: 19\n",
      "col: 20\n",
      "col: 21\n",
      "col: 22\n",
      "col: 23\n",
      "col: 24\n",
      "col: 25\n",
      "col: 26\n",
      "col: 27\n",
      "col: 28\n",
      "col: 29\n",
      "col: 30\n",
      "col: 31\n",
      "col: 32\n",
      "col: 33\n",
      "col: 34\n",
      "col: 35\n",
      "col: 36\n",
      "col: 37\n",
      "col: 38\n",
      "col: 39\n",
      "col: 40\n",
      "col: 41\n",
      "col: 42\n",
      "col: 43\n",
      "col: 44\n",
      "col: 45\n",
      "col: 46\n",
      "col: 47\n",
      "col: 48\n",
      "col: 49\n"
     ]
    }
   ],
   "source": [
    "# Prepare values for image\n",
    "n_pixels = 50\n",
    "\n",
    "Z = np.zeros((n_pixels, n_pixels))\n",
    "for col, x1 in enumerate(np.linspace(0, 5, n_pixels)):\n",
    "    for row, x2 in enumerate(np.linspace(0, 5, n_pixels)):\n",
    "        Z[row, col] = get_prob_blue(np.matrix([[1, x1, x2]]), X_dummy, k, v,\n",
    "                                   C, a_N, W_N_inv)\n",
    "        \n",
    "    print(\"col: {}\".format(col))"
   ]
  },
  {
   "cell_type": "code",
   "execution_count": 29,
   "metadata": {},
   "outputs": [
    {
     "data": {
      "text/plain": [
       "<matplotlib.image.AxesImage at 0x188382f2e08>"
      ]
     },
     "execution_count": 29,
     "metadata": {},
     "output_type": "execute_result"
    },
    {
     "data": {
      "image/png": "[encoded data removed]",
      "text/plain": [
       "<Figure size 432x288 with 1 Axes>"
      ]
     },
     "metadata": {
      "needs_background": "light"
     },
     "output_type": "display_data"
    }
   ],
   "source": [
    "plt.scatter(X[:, 0], X[:, 1], marker='o', c=color, s=8)\n",
    "plt.imshow(Z, interpolation='bilinear', origin='lower', cmap='jet',\n",
    "           extent=[0,5,0,5])"
   ]
  },
  {
   "cell_type": "code",
   "execution_count": null,
   "metadata": {},
   "outputs": [],
   "source": []
  }
 ],
 "metadata": {
  "kernelspec": {
   "display_name": "Python 3",
   "language": "python",
   "name": "python3"
  },
  "language_info": {
   "codemirror_mode": {
    "name": "ipython",
    "version": 3
   },
   "file_extension": ".py",
   "mimetype": "text/x-python",
   "name": "python",
   "nbconvert_exporter": "python",
   "pygments_lexer": "ipython3",
   "version": "3.7.6"
  }
 },
 "nbformat": 4,
 "nbformat_minor": 4
}
