{
 "cells": [
  {
   "cell_type": "markdown",
   "metadata": {},
   "source": [
    "**Kelvin Fung**<br>\n",
    "**YSC4216 Machine Learning**<br>\n",
    "**Assignment 2: Regression Using MAP and Basis Functions**"
   ]
  },
  {
   "cell_type": "markdown",
   "metadata": {},
   "source": [
    "Link to assignment:\n",
    "    \n",
    "https://tanrobby.github.io/teaching/ync_machine_learning/assignment3.html"
   ]
  },
  {
   "cell_type": "markdown",
   "metadata": {},
   "source": [
    "1. Generate 50 2D-data points using the following function: $y = sin(x^2 + 1)$\n",
    "2. Add Gaussian random noise to the data\n",
    "3. Show original curve line and the noisy data"
   ]
  },
  {
   "cell_type": "code",
   "execution_count": 4,
   "metadata": {},
   "outputs": [],
   "source": [
    "import numpy as np\n",
    "import matplotlib.pyplot as plt\n",
    "from scipy import linalg\n",
    "\n",
    "%matplotlib inline"
   ]
  },
  {
   "cell_type": "code",
   "execution_count": 5,
   "metadata": {},
   "outputs": [],
   "source": [
    "# Functions to generate data\n",
    "def actual_distribution(num_points=50):\n",
    "    x_act = np.linspace(0, 1, num=num_points)\n",
    "    y_act = np.sin(np.power(x_act, 2) + 1)\n",
    "    \n",
    "    return (x_act, y_act)\n",
    "\n",
    "def add_noise(y_act, sig=.05):\n",
    "    mu = 0\n",
    "    noise = np.random.normal(mu, sig, len(y_act))\n",
    "    \n",
    "    return y_act + noise"
   ]
  },
  {
   "cell_type": "code",
   "execution_count": 6,
   "metadata": {},
   "outputs": [],
   "source": [
    "x_act, y_act = actual_distribution(50)\n",
    "y_noise = add_noise(y_act, .05)"
   ]
  },
  {
   "cell_type": "markdown",
   "metadata": {},
   "source": [
    "4. Compute w based on full Bayesian Inference (by using basis functions like discussed in class).\n",
    "5. Display the estimated values of w"
   ]
  },
  {
   "cell_type": "code",
   "execution_count": null,
   "metadata": {},
   "outputs": [],
   "source": [
    "def full_bayesian(x_act, y_noise, M, s, basis_function, alpha=1, beta=1):\n",
    "    \n",
    "    phi = np.matrix([[1] + [basis_function(x, n*s, s) for n in range(M-1)]\n",
    "                     for x in x_act])\n",
    "    \n",
    "    s_n = linalg.inv(np.diag([alpha for x in range(M)]) + beta*phi.T*phi)\n",
    "    pass"
   ]
  }
 ],
 "metadata": {
  "kernelspec": {
   "display_name": "Python 3",
   "language": "python",
   "name": "python3"
  },
  "language_info": {
   "codemirror_mode": {
    "name": "ipython",
    "version": 3
   },
   "file_extension": ".py",
   "mimetype": "text/x-python",
   "name": "python",
   "nbconvert_exporter": "python",
   "pygments_lexer": "ipython3",
   "version": "3.7.6"
  }
 },
 "nbformat": 4,
 "nbformat_minor": 4
}
