{
 "cells": [
  {
   "cell_type": "markdown",
   "metadata": {},
   "source": [
    "**Kelvin Fung**<br>\n",
    "**YSC4216 Machine Learning**<br>\n",
    "**Assignment 5: Least Squares and Predictive Distribution for Regression**"
   ]
  },
  {
   "cell_type": "markdown",
   "metadata": {},
   "source": [
    "Link to assignment: \n",
    "\n",
    "https://tanrobby.github.io/teaching/ync_machine_learning/assignment5.html"
   ]
  },
  {
   "cell_type": "markdown",
   "metadata": {},
   "source": [
    "1. Generate classification data of two classes."
   ]
  },
  {
   "cell_type": "code",
   "execution_count": 3,
   "metadata": {},
   "outputs": [],
   "source": [
    "import numpy as np\n",
    "import matplotlib.pyplot as plt\n",
    "\n",
    "%matplotlib inline"
   ]
  },
  {
   "cell_type": "code",
   "execution_count": 7,
   "metadata": {},
   "outputs": [
    {
     "name": "stdout",
     "output_type": "stream",
     "text": [
      "True\n"
     ]
    }
   ],
   "source": [
    "N1 = 100\n",
    "N2 = 100\n",
    "K = 2\n",
    "sigma = 1.0\n",
    "cov = [[sigma, 0], [0, sigma]]\n",
    "\n",
    "mean = (1, 1)\n",
    "X1 = np.random.multivariate_normal(mean, cov, N1)\n",
    "c1 = ['red' for _ in range(N1)]\n",
    "\n",
    "mean = (5, 5)\n",
    "X2 = np.random.multivariate_normal(mean, cov, N2)\n",
    "c2 = ['blue' for _ in range(N2)]\n",
    "\n",
    "X = np.concatenate((X1, X2))\n",
    "color = np.concatenate((c1, c2))\n",
    "\n",
    "# Create a NxK label matrix\n",
    "T = np.matrix([[1, 0] for _ in range(N1)] + \\\n",
    "              [[0, 1] for _ in range(N2)])\n",
    "\n",
    "W = 0 * np.ones([len(X), K])\n",
    "for n in range(0, len(X)):\n",
    "    if n < len(X1):\n",
    "        W[n][0] = 1\n",
    "    else:\n",
    "        W[n][1] = 1\n",
    "        \n",
    "W = W.astype(int)\n",
    "\n",
    "print(np.array_equal(T, W))"
   ]
  },
  {
   "cell_type": "code",
   "execution_count": null,
   "metadata": {},
   "outputs": [],
   "source": []
  }
 ],
 "metadata": {
  "kernelspec": {
   "display_name": "Python 3",
   "language": "python",
   "name": "python3"
  },
  "language_info": {
   "codemirror_mode": {
    "name": "ipython",
    "version": 3
   },
   "file_extension": ".py",
   "mimetype": "text/x-python",
   "name": "python",
   "nbconvert_exporter": "python",
   "pygments_lexer": "ipython3",
   "version": "3.7.6"
  }
 },
 "nbformat": 4,
 "nbformat_minor": 4
}
