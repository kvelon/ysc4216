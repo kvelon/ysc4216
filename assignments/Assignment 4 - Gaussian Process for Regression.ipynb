{
 "cells": [
  {
   "cell_type": "markdown",
   "metadata": {},
   "source": [
    "**Kelvin Fung**<br>\n",
    "**YSC4216 Machine Learning**<br>\n",
    "**Assignment 4: Gaussian Process for Regression**"
   ]
  },
  {
   "cell_type": "markdown",
   "metadata": {},
   "source": [
    "Link to assignment: \n",
    "\n",
    "https://tanrobby.github.io/teaching/ync_machine_learning/assignment4.html"
   ]
  },
  {
   "cell_type": "markdown",
   "metadata": {},
   "source": [
    "1. Generate 50 2D-data points using the following function: $y = sin(x^2 + 1)$\n",
    "2. Add Gaussian random noise to the data\n",
    "3. Show original curve line and the noisy data"
   ]
  },
  {
   "cell_type": "code",
   "execution_count": 3,
   "metadata": {},
   "outputs": [],
   "source": [
    "import numpy as np\n",
    "import matplotlib.pyplot as plt\n",
    "from scipy import linalg\n",
    "\n",
    "%matplotlib inline"
   ]
  },
  {
   "cell_type": "code",
   "execution_count": 4,
   "metadata": {},
   "outputs": [],
   "source": [
    "# Functions to generate data\n",
    "def actual_distribution(num_points=50):\n",
    "    x_act = np.linspace(0, 1, num=num_points)\n",
    "    y_act = np.sin(np.power(x_act, 2) + 1)\n",
    "    \n",
    "    return (x_act, y_act)\n",
    "\n",
    "def add_noise(y_act, sig=.05):\n",
    "    mu = 0\n",
    "    noise = np.random.normal(mu, sig, len(y_act))\n",
    "    \n",
    "    return y_act + noise"
   ]
  },
  {
   "cell_type": "code",
   "execution_count": 5,
   "metadata": {},
   "outputs": [],
   "source": [
    "x_act, y_act = actual_distribution(50)\n",
    "y_noise = add_noise(y_act, .05)"
   ]
  },
  {
   "cell_type": "code",
   "execution_count": 6,
   "metadata": {},
   "outputs": [
    {
     "data": {
      "text/plain": [
       "<matplotlib.legend.Legend at 0x280e0657948>"
      ]
     },
     "execution_count": 6,
     "metadata": {},
     "output_type": "execute_result"
    },
    {
     "data": {
      "image/png": "[encoded data removed]",
      "text/plain": [
       "<Figure size 432x288 with 1 Axes>"
      ]
     },
     "metadata": {
      "needs_background": "light"
     },
     "output_type": "display_data"
    }
   ],
   "source": [
    "fig = plt.figure()\n",
    "ax = fig.add_subplot(111)\n",
    "\n",
    "ax.plot(x_act, y_act, '-ro', markersize=3, label='Original curve')\n",
    "ax.plot(x_act, y_noise, '-gx', linestyle='none', label='Noisy data')\n",
    "ax.legend()"
   ]
  },
  {
   "cell_type": "markdown",
   "metadata": {},
   "source": [
    "4. Compute the Gaussian process prediction of every input data sequentially, where each input data is taken randomly from the noise data.\n",
    "5. Use the kernel we discuss in class (textbook's Eq. (6.63), page 307), by setting thetas: (1.0, 4.0, 0.0, 0.0)"
   ]
  },
  {
   "cell_type": "code",
   "execution_count": null,
   "metadata": {},
   "outputs": [],
   "source": [
    "def gaussian_process(x_act, y_noise, beta, thetas):\n",
    "    \n",
    "    # Create array to store order in which data is sampled.\n",
    "    sampling_order = [x for x in range(50)]\n",
    "    np.random.shuffle(sampling_order)\n",
    "    \n",
    "    # Initilise variables to store predicted values and associated s.d.\n",
    "    y_est_lst = []\n",
    "    s_lst = []\n",
    "    \n",
    "    # Define kernel function\n",
    "    def k(xi, xj):\n",
    "        return thetas[0] + np.exp((-thetas[1]/2) * linalg.norm(xi-xj)**2) + thetas[2] + \\\n",
    "               (thetas[3] * (xi.T * xj)[0])\n",
    "        \n",
    "    # Functions to compute k_star and C_n\n",
    "    def compute_k_star(x_star, x_train, kernel_func):\n",
    "        return np.matrix([kernel_func(x, x_star) for x in x_train]).T\n",
    "    \n",
    "    def compute_C_N(x_train, kernel_func, beta):\n",
    "        N = len(x_train)\n",
    "        C = np.zeros((N, N))\n",
    "        \n",
    "        for i, x in enumerate(x_train):\n",
    "            C[i, i] = kernel_func(x, x) + (1/beta)\n",
    "            \n",
    "            for j in range(i, N):\n",
    "                C[i, j] = kernel_func(x, x_train[j])\n",
    "                C[j, i] = C[i, j]\n",
    "                \n",
    "    def compute_c_star(x_star, kernel_func, beta):\n",
    "        return kernel_func(x_star, x_star) + (1/beta)\n",
    "    \n",
    "    # Insert data one at a time and compute estimated y and s.d.\n",
    "    x_train = []\n",
    "    \n",
    "    for index in sampling_order:\n",
    "        x_train.append(x_act[index])\n",
    "        \n",
    "        y_est = []\n",
    "        sd = []\n",
    "        \n",
    "        C_N = compute_C_N(x_train, k, beta)\n",
    "        #t_N = np.matrix()\n",
    "\n",
    "    pass    \n",
    "        \n",
    "        \n",
    "        "
   ]
  },
  {
   "cell_type": "code",
   "execution_count": 1,
   "metadata": {},
   "outputs": [],
   "source": [
    "thetas = [1, 4, 0, 0]\n",
    "def kernel_function(xi, xj):\n",
    "        return thetas[0] + np.exp((-thetas[1]/2) * linalg.norm(xi-xj)**2) + thetas[2] + \\\n",
    "               (thetas[3] * (xi.T * xj)[0])"
   ]
  },
  {
   "cell_type": "code",
   "execution_count": 14,
   "metadata": {},
   "outputs": [
    {
     "data": {
      "text/plain": [
       "1.9231163463866359"
      ]
     },
     "execution_count": 14,
     "metadata": {},
     "output_type": "execute_result"
    }
   ],
   "source": [
    "kernel_function(np.array([0.5]), np.array([0.7]))"
   ]
  },
  {
   "cell_type": "code",
   "execution_count": null,
   "metadata": {},
   "outputs": [],
   "source": []
  }
 ],
 "metadata": {
  "kernelspec": {
   "display_name": "Python 3",
   "language": "python",
   "name": "python3"
  },
  "language_info": {
   "codemirror_mode": {
    "name": "ipython",
    "version": 3
   },
   "file_extension": ".py",
   "mimetype": "text/x-python",
   "name": "python",
   "nbconvert_exporter": "python",
   "pygments_lexer": "ipython3",
   "version": "3.7.6"
  }
 },
 "nbformat": 4,
 "nbformat_minor": 4
}
