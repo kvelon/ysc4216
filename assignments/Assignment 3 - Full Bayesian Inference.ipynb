{
 "cells": [
  {
   "cell_type": "markdown",
   "metadata": {},
   "source": [
    "**Kelvin Fung**<br>\n",
    "**YSC4216 Machine Learning**<br>\n",
    "**Assignment 2: Regression Using MAP and Basis Functions**"
   ]
  },
  {
   "cell_type": "markdown",
   "metadata": {},
   "source": [
    "Link to assignment:\n",
    "    \n",
    "https://tanrobby.github.io/teaching/ync_machine_learning/assignment3.html"
   ]
  },
  {
   "cell_type": "markdown",
   "metadata": {},
   "source": [
    "# Part 1: Full Bayesian Inference "
   ]
  },
  {
   "cell_type": "markdown",
   "metadata": {},
   "source": [
    "1. Generate 50 2D-data points using the following function: $y = sin(x^2 + 1)$\n",
    "2. Add Gaussian random noise to the data\n",
    "3. Show original curve line and the noisy data"
   ]
  },
  {
   "cell_type": "code",
   "execution_count": null,
   "metadata": {},
   "outputs": [],
   "source": [
    "import numpy as np\n",
    "import matplotlib.pyplot as plt\n",
    "from scipy import linalg\n",
    "\n",
    "%matplotlib inline"
   ]
  },
  {
   "cell_type": "code",
   "execution_count": null,
   "metadata": {},
   "outputs": [],
   "source": [
    "# Functions to generate data\n",
    "def actual_distribution(num_points=50):\n",
    "    x_act = np.linspace(0, 1, num=num_points)\n",
    "    y_act = np.sin(np.power(x_act, 2) + 1)\n",
    "    \n",
    "    return (x_act, y_act)\n",
    "\n",
    "def add_noise(y_act, sig=.05):\n",
    "    mu = 0\n",
    "    noise = np.random.normal(mu, sig, len(y_act))\n",
    "    \n",
    "    return y_act + noise"
   ]
  },
  {
   "cell_type": "code",
   "execution_count": null,
   "metadata": {},
   "outputs": [],
   "source": [
    "x_act, y_act = actual_distribution(50)\n",
    "y_noise = add_noise(y_act, .05)"
   ]
  },
  {
   "cell_type": "code",
   "execution_count": null,
   "metadata": {},
   "outputs": [],
   "source": [
    "fig = plt.figure()\n",
    "ax = fig.add_subplot(111)\n",
    "\n",
    "ax.plot(x_act, y_act, '-ro', markersize=3, label='Original curve')\n",
    "ax.plot(x_act, y_noise, '-gx', linestyle='none', label='Noisy data')"
   ]
  },
  {
   "cell_type": "markdown",
   "metadata": {},
   "source": [
    "4. Compute w based on full Bayesian Inference (by using basis functions like discussed in class).\n",
    "5. Display the estimated values of w"
   ]
  },
  {
   "cell_type": "code",
   "execution_count": null,
   "metadata": {},
   "outputs": [],
   "source": [
    "def gaussian_basis(x, miu, sigma):\n",
    "        return np.exp(-np.power(x-miu, 2) / (2*np.power(sigma, 2)))"
   ]
  },
  {
   "cell_type": "code",
   "execution_count": null,
   "metadata": {},
   "outputs": [],
   "source": [
    "def full_bayesian(x_act, y_noise, M, basis_function, alpha=0, beta=1):\n",
    "    \n",
    "    s = 1 / M\n",
    "    mu_values = [s*i for i in range(1, M)]\n",
    "    \n",
    "    phi = np.matrix([[1] + [basis_function(x, mu, s) for mu in mu_values]\n",
    "                     for x in x_act])\n",
    "    \n",
    "    s_n = linalg.inv(np.diag([alpha for _ in range(M)]) + beta*phi.T*phi)\n",
    "    \n",
    "    m_n = beta * s_n * phi.T * np.matrix(y_noise).T\n",
    "    \n",
    "    y_est = phi*m_n\n",
    "    \n",
    "    return m_n, y_est"
   ]
  },
  {
   "cell_type": "code",
   "execution_count": null,
   "metadata": {},
   "outputs": [],
   "source": [
    "w, y_est = full_bayesian(x_act, y_noise, 5, gaussian_basis, .5, 5)"
   ]
  },
  {
   "cell_type": "code",
   "execution_count": null,
   "metadata": {},
   "outputs": [],
   "source": [
    "w"
   ]
  },
  {
   "cell_type": "markdown",
   "metadata": {},
   "source": [
    "6. Experiment with your code by changing alpha and beta. Discuss the meaning of them with respect to the curve fitting results."
   ]
  },
  {
   "cell_type": "code",
   "execution_count": null,
   "metadata": {},
   "outputs": [],
   "source": [
    "alpha_values = [0, 0.2, 0.5, 1]\n",
    "beta_values = [0.5, 1, 5, 20]\n",
    "plot_num = 1\n",
    "\n",
    "fig = plt.figure(figsize=[11, 14])\n",
    "for alpha in alpha_values:\n",
    "    for beta in beta_values:\n",
    "        _, y_est = full_bayesian(x_act, y_noise, 5, gaussian_basis, alpha, beta)\n",
    "        \n",
    "        ax = fig.add_subplot(4, 4, plot_num)\n",
    "        plot_num += 1\n",
    "        \n",
    "        ax.plot(x_act, y_act, 'ro', markersize=2)   # Original curve\n",
    "        ax.plot(x_act, y_noise, 'x', markersize=2)  # Noisy data\n",
    "        ax.plot(x_act, y_est, 'b')                  # Fitted curve\n",
    "        \n",
    "        ax.set(title=\"alpha={}, beta={}\".format(alpha, beta))\n"
   ]
  },
  {
   "cell_type": "markdown",
   "metadata": {},
   "source": [
    "8. Show your best fitting:"
   ]
  },
  {
   "cell_type": "code",
   "execution_count": null,
   "metadata": {},
   "outputs": [],
   "source": [
    "fig = plt.figure()\n",
    "ax = fig.add_subplot(111)\n",
    "\n",
    "ax.plot(x_act, y_act, '-ro', markersize=3, label='Original curve')\n",
    "ax.plot(x_act, y_noise, '-gx', linestyle='none', label='Noisy data')\n",
    "ax.plot(x_act, y_est, 'b', label='Predicted curve')"
   ]
  },
  {
   "cell_type": "markdown",
   "metadata": {},
   "source": [
    "9. Increase the value of M, and discuss how it affects the prediction (curve fitting) and the uncertainty of the prediction."
   ]
  },
  {
   "cell_type": "code",
   "execution_count": null,
   "metadata": {},
   "outputs": [],
   "source": [
    "M_values = [2, 6, 10, 20]\n",
    "plot_num = 1\n",
    "\n",
    "fig = plt.figure(figsize=[8, 6])\n",
    "for M in M_values:\n",
    "    \n",
    "    _, y_est = full_bayesian(x_act, y_noise, M, gaussian_basis, .5, 10)\n",
    "    \n",
    "    ax = fig.add_subplot(2,2, plot_num)\n",
    "    plot_num += 1\n",
    "        \n",
    "    ax.plot(x_act, y_act, 'ro', markersize=2)   # Original curve\n",
    "    ax.plot(x_act, y_noise, 'x', markersize=2)  # Noisy data\n",
    "    ax.plot(x_act, y_est, 'b')                  # Fitted curve\n",
    "\n",
    "    ax.set(title=\"M={}\".format(M))"
   ]
  },
  {
   "cell_type": "markdown",
   "metadata": {},
   "source": [
    "At M=2, the predicted curve does not fit well into the underlying curve. At M=10 and M=20, we observe overfitting, where the predicted curve tries to fit the noisy data too closely. At M=6, however, we obtain a predicted curve that fits the underlying curve decently well."
   ]
  },
  {
   "cell_type": "markdown",
   "metadata": {},
   "source": [
    "10. Explain how useful p(w|t) is for the training and testing stages."
   ]
  },
  {
   "cell_type": "markdown",
   "metadata": {},
   "source": [
    "$p(w|t)$ is useful in the training stage as it tells us how certain or uncertain we are about *w*, which are parameters of the model"
   ]
  },
  {
   "cell_type": "markdown",
   "metadata": {},
   "source": [
    "# Part 2 - Sequential Bayesian Learning"
   ]
  },
  {
   "cell_type": "markdown",
   "metadata": {},
   "source": [
    "1. Generate 50 2D-data points using the following function: $y = sin(x^2 + 1)$\n",
    "2. Add Gaussian random noise to the data"
   ]
  },
  {
   "cell_type": "code",
   "execution_count": null,
   "metadata": {},
   "outputs": [],
   "source": [
    "x_act, y_act = actual_distribution(50)\n",
    "y_noise = add_noise(y_act, .05)"
   ]
  },
  {
   "cell_type": "code",
   "execution_count": null,
   "metadata": {},
   "outputs": [],
   "source": [
    "def sequential_bayesian(x_act, y_noise, M, basis_function, alpha=0, beta=1):\n",
    "    \n",
    "    # Create array to store order in which data is sampled.\n",
    "    sampling_order = [x for x in range(50)]\n",
    "    np.random.shuffle(sampling_order)\n",
    "    \n",
    "    w_lst = []\n",
    "    y_est_lst = []\n",
    "    \n",
    "    # First set (regular Full Bayesian)\n",
    "    x_subset = [x_act[i] for i in sampling_order[:5]]\n",
    "    y_subset = [y_act[i] for i in sampling_order[:5]]\n",
    "    w, y_est = full_bayesian(x_subset, y_subset, 5, gaussian_basis, .5, 5)\n",
    "    \n",
    "    w_lst.append(w)\n",
    "    y_est_lst.append(y_est)\n",
    "    \n",
    "    # Subsequent sets\n",
    "    \n",
    "        \n",
    "    return w_lst, y_est_lst"
   ]
  }
 ],
 "metadata": {
  "kernelspec": {
   "display_name": "Python 3",
   "language": "python",
   "name": "python3"
  },
  "language_info": {
   "codemirror_mode": {
    "name": "ipython",
    "version": 3
   },
   "file_extension": ".py",
   "mimetype": "text/x-python",
   "name": "python",
   "nbconvert_exporter": "python",
   "pygments_lexer": "ipython3",
   "version": "3.7.6"
  }
 },
 "nbformat": 4,
 "nbformat_minor": 4
}
