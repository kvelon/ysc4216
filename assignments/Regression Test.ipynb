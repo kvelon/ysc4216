{
 "cells": [
  {
   "cell_type": "code",
   "execution_count": 1,
   "metadata": {},
   "outputs": [],
   "source": [
    "import numpy as np\n",
    "import matplotlib.pyplot as plt\n",
    "from scipy import linalg\n",
    "\n",
    "%matplotlib inline"
   ]
  },
  {
   "cell_type": "code",
   "execution_count": 2,
   "metadata": {},
   "outputs": [],
   "source": [
    "def actual_dist(num_points=15):\n",
    "    x_og = np.linspace(0, 6, num_points)\n",
    "    y_og = np.sin(x_og)\n",
    "    \n",
    "    return x_og, y_og\n",
    "\n",
    "def get_noisy_labels(y_og, var=0.2):\n",
    "    mu = 0\n",
    "    sig = np.sqrt(var)\n",
    "    noise = np.random.normal(mu, sig, len(y_og))\n",
    "    \n",
    "    return y_og + noise"
   ]
  },
  {
   "cell_type": "code",
   "execution_count": 3,
   "metadata": {},
   "outputs": [],
   "source": [
    "x, y = actual_dist(15)\n",
    "y_noisy = get_noisy_labels(y)"
   ]
  },
  {
   "cell_type": "code",
   "execution_count": 4,
   "metadata": {},
   "outputs": [],
   "source": [
    "def get_coeff_v2(x_arr, y_arr, M):\n",
    "    X = np.matrix([[np.power(x, i) for i in range(M)] for x in x_arr])\n",
    "    X_pinv = np.linalg.pinv(X)\n",
    "    w = X_pinv * np.array([y_arr]).T\n",
    "    return w"
   ]
  },
  {
   "cell_type": "code",
   "execution_count": 5,
   "metadata": {},
   "outputs": [],
   "source": [
    "w = get_coeff_v2(x, y_noisy, 15)"
   ]
  },
  {
   "cell_type": "code",
   "execution_count": 6,
   "metadata": {},
   "outputs": [],
   "source": [
    "# Function to generate data from estimated parameters\n",
    "def estimated_distribution(w, x_og):\n",
    "    X = np.matrix([[np.power(x, i) for i in range(w.shape[0])] for x in x_og])\n",
    "    Y = X*w\n",
    "    \n",
    "    return Y.A1  # Flatten Nx1 matrix into array of size N"
   ]
  },
  {
   "cell_type": "code",
   "execution_count": 9,
   "metadata": {},
   "outputs": [],
   "source": [
    "y_est = estimated_distribution(w, x)"
   ]
  },
  {
   "cell_type": "code",
   "execution_count": 10,
   "metadata": {},
   "outputs": [
    {
     "data": {
      "text/plain": [
       "[<matplotlib.lines.Line2D at 0x1b61db9e2c8>]"
      ]
     },
     "execution_count": 10,
     "metadata": {},
     "output_type": "execute_result"
    },
    {
     "data": {
      "image/png": "[encoded data removed]",
      "text/plain": [
       "<Figure size 432x288 with 1 Axes>"
      ]
     },
     "metadata": {
      "needs_background": "light"
     },
     "output_type": "display_data"
    }
   ],
   "source": [
    "fig = plt.figure()\n",
    "ax = fig.add_subplot(111)\n",
    "\n",
    "ax.plot(x, y, '-o', color='red')\n",
    "ax.plot(x, y_noisy, 'x', color='green')\n",
    "ax.plot(x, y_est, color='blue')"
   ]
  },
  {
   "cell_type": "code",
   "execution_count": null,
   "metadata": {},
   "outputs": [],
   "source": []
  }
 ],
 "metadata": {
  "kernelspec": {
   "display_name": "Python 3",
   "language": "python",
   "name": "python3"
  },
  "language_info": {
   "codemirror_mode": {
    "name": "ipython",
    "version": 3
   },
   "file_extension": ".py",
   "mimetype": "text/x-python",
   "name": "python",
   "nbconvert_exporter": "python",
   "pygments_lexer": "ipython3",
   "version": "3.7.6"
  }
 },
 "nbformat": 4,
 "nbformat_minor": 4
}
